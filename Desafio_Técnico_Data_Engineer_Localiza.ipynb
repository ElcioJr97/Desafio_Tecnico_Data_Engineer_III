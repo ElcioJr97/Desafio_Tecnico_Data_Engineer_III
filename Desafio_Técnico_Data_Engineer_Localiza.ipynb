{
  "nbformat": 4,
  "nbformat_minor": 0,
  "metadata": {
    "colab": {
      "provenance": []
    },
    "kernelspec": {
      "name": "python3",
      "display_name": "Python 3"
    },
    "language_info": {
      "name": "python"
    }
  },
  "cells": [
    {
      "cell_type": "markdown",
      "source": [
        "# **Desafio Técnico Data Engineer III Localiza - Elcio Junior**\n"
      ],
      "metadata": {
        "id": "7W1oAL0C9RWH"
      }
    },
    {
      "cell_type": "markdown",
      "source": [
        "## **Sumário**\n",
        "###**1 - Coleta e Limpeza de Dados**\n",
        "####*1.1 - Verificação de duplicidade de dados*\n",
        "####*1.2 - Verificação de nulos*\n",
        "####*1.3 - Verificação de possíveis anomalias*\n",
        "###**2 - Criação das tabelas-resultado**\n",
        "####*2.1 - Listar em ordem decrescent \"location_region\" por média de \"risk_score\"*\n",
        "####*2.2 - Listar os 3 \"receiving address\" com maior \"amount\" dentre a transação com \"timestamp\" mais recente e \"transaction_type\" = \"sale\" de cada \"receiving_address\"*\n",
        "###**3 - Data Quality**\n",
        "###**4 - Data Quality (Representação Gráfica)**\n",
        "####*4.1 - Distribuição de Valores Nulos por Coluna*\n",
        "####*4.2 - Percentual de Conformidade*\n",
        "####*4.3 - Distribuição dos Valores em \"amount\"*\n",
        "###**5 - Conteinerização**\n",
        "###**6 - Orquestração**"
      ],
      "metadata": {
        "id": "sV6jgDOeXm_z"
      }
    },
    {
      "cell_type": "markdown",
      "source": [
        "## **1 - Coleta e Limpeza de Dados**\n",
        "\n",
        "\n",
        "### Será utilizado o PySpark\n",
        "\n",
        "O PySpark, construído sobre o Apache Spark, é uma poderosa biblioteca que proporciona a flexibilidade do Python juntamente com a capacidade de processamento distribuído do Spark. Essa combinação única permite que manipulemos e analisemos grandes volumes de dados de maneira escalável e eficiente."
      ],
      "metadata": {
        "id": "-iyK5FUx9pcH"
      }
    },
    {
      "cell_type": "code",
      "execution_count": 1,
      "metadata": {
        "colab": {
          "base_uri": "https://localhost:8080/"
        },
        "id": "Zp72QvUwvwIQ",
        "outputId": "be7d2a34-13f9-431c-a765-d435e81bb606"
      },
      "outputs": [
        {
          "output_type": "stream",
          "name": "stdout",
          "text": [
            "Collecting pyspark\n",
            "  Downloading pyspark-3.5.1.tar.gz (317.0 MB)\n",
            "\u001b[2K     \u001b[90m━━━━━━━━━━━━━━━━━━━━━━━━━━━━━━━━━━━━━━━━\u001b[0m \u001b[32m317.0/317.0 MB\u001b[0m \u001b[31m3.7 MB/s\u001b[0m eta \u001b[36m0:00:00\u001b[0m\n",
            "\u001b[?25h  Preparing metadata (setup.py) ... \u001b[?25l\u001b[?25hdone\n",
            "Requirement already satisfied: py4j==0.10.9.7 in /usr/local/lib/python3.10/dist-packages (from pyspark) (0.10.9.7)\n",
            "Building wheels for collected packages: pyspark\n",
            "  Building wheel for pyspark (setup.py) ... \u001b[?25l\u001b[?25hdone\n",
            "  Created wheel for pyspark: filename=pyspark-3.5.1-py2.py3-none-any.whl size=317488493 sha256=2f2e6e8a792490845ec16386e38bbf1c6a4a0c10ec0408f1f498de0f81391cad\n",
            "  Stored in directory: /root/.cache/pip/wheels/80/1d/60/2c256ed38dddce2fdd93be545214a63e02fbd8d74fb0b7f3a6\n",
            "Successfully built pyspark\n",
            "Installing collected packages: pyspark\n",
            "Successfully installed pyspark-3.5.1\n"
          ]
        }
      ],
      "source": [
        "!pip install pyspark"
      ]
    },
    {
      "cell_type": "code",
      "source": [
        "from pyspark.sql import SparkSession\n",
        "from pyspark.sql import functions as f\n",
        "from pyspark.sql.window import Window"
      ],
      "metadata": {
        "id": "8KvxOb7jxdRj"
      },
      "execution_count": 52,
      "outputs": []
    },
    {
      "cell_type": "code",
      "source": [
        "spark = SparkSession.builder.master('local[*]').appName(\"Desafio Técnico Data Engineer III Localiza - Elcio Junior\").getOrCreate()"
      ],
      "metadata": {
        "id": "LemfwJQXxi0l"
      },
      "execution_count": 4,
      "outputs": []
    },
    {
      "cell_type": "code",
      "source": [
        "spark"
      ],
      "metadata": {
        "colab": {
          "base_uri": "https://localhost:8080/",
          "height": 219
        },
        "id": "MSbYGiJOyXq5",
        "outputId": "b53e4162-8acd-4157-f029-ddaec35975db"
      },
      "execution_count": 5,
      "outputs": [
        {
          "output_type": "execute_result",
          "data": {
            "text/plain": [
              "<pyspark.sql.session.SparkSession at 0x7c7ed415a7d0>"
            ],
            "text/html": [
              "\n",
              "            <div>\n",
              "                <p><b>SparkSession - in-memory</b></p>\n",
              "                \n",
              "        <div>\n",
              "            <p><b>SparkContext</b></p>\n",
              "\n",
              "            <p><a href=\"http://2462c68cd540:4040\">Spark UI</a></p>\n",
              "\n",
              "            <dl>\n",
              "              <dt>Version</dt>\n",
              "                <dd><code>v3.5.1</code></dd>\n",
              "              <dt>Master</dt>\n",
              "                <dd><code>local[*]</code></dd>\n",
              "              <dt>AppName</dt>\n",
              "                <dd><code>Desafio Técnico Data Engineer III Localiza - Elcio Junior</code></dd>\n",
              "            </dl>\n",
              "        </div>\n",
              "        \n",
              "            </div>\n",
              "        "
            ]
          },
          "metadata": {},
          "execution_count": 5
        }
      ]
    },
    {
      "cell_type": "code",
      "source": [
        "fraud_credit = '/content/df_fraud_credit.csv'"
      ],
      "metadata": {
        "id": "BHhIoULCx5Gx"
      },
      "execution_count": 6,
      "outputs": []
    },
    {
      "cell_type": "code",
      "source": [
        "df_fraud_credit = spark.read.csv(fraud_credit, sep=',', header=True, inferSchema=True)"
      ],
      "metadata": {
        "id": "XXK0i6z7yeoE"
      },
      "execution_count": 11,
      "outputs": []
    },
    {
      "cell_type": "code",
      "source": [
        "df_fraud_credit.show()"
      ],
      "metadata": {
        "colab": {
          "base_uri": "https://localhost:8080/"
        },
        "id": "w-a6lUYRymUV",
        "outputId": "4f5e2bd3-1ad9-4756-8776-9bffd641f8b4"
      },
      "execution_count": 16,
      "outputs": [
        {
          "output_type": "stream",
          "name": "stdout",
          "text": [
            "+----------+--------------------+--------------------+-------+----------------+---------------+---------+---------------+----------------+----------------+-----------+----------+-------------+\n",
            "| timestamp|     sending_address|   receiving_address| amount|transaction_type|location_region|ip_prefix|login_frequency|session_duration|purchase_pattern|  age_group|risk_score|      anomaly|\n",
            "+----------+--------------------+--------------------+-------+----------------+---------------+---------+---------------+----------------+----------------+-----------+----------+-------------+\n",
            "|1618185002|0x9d32d0bf2c00f41...|0x39f82e1c09bc6d7...|67435.0|        transfer|         Europe|    192.0|              3|              48|         focused|established|     18.75|     low_risk|\n",
            "|1698642474|0xd6e251c23cbf52d...|0x51e8fbe24f124e0...|    1.0|        purchase|  South America|    172.0|              5|              61|         focused|established|      25.0|     low_risk|\n",
            "|1619180066|0x2e0925b922fed01...|0x52c7911879f783d...|66211.0|        purchase|           Asia|  192.168|              3|              74|         focused|established|     31.25|     low_risk|\n",
            "|1591413882|0x93efefc25fcaf31...|0x8ac3b7bd531b3a8...|14998.0|        transfer|  South America|    172.0|              8|             111|      high_value|    veteran|     36.75|     low_risk|\n",
            "|1611257295|0xad3b8de45d63f5c...|0x6fdc047c2391615...|66002.0|            sale|         Africa|   172.16|              6|             100|      high_value|    veteran|      62.5|moderate_risk|\n",
            "|1644911940|0xa99b9a7f5c5dd37...|0x5a78c88c5fc1e9b...|48446.0|        transfer|         Africa|  192.168|              4|              66|         focused|established|     15.75|     low_risk|\n",
            "|1694024264|0xcca095ad2d508c2...|0xb71a4df291ea8e9...|57325.0|            sale|  South America|    192.0|              8|             103|      high_value|    veteran|      52.5|     low_risk|\n",
            "|1629563063|0xe0b340171486b08...|0x577754308538f4b...|67617.0|            sale|  South America|    192.0|              1|              32|          random|        new|      50.0|     low_risk|\n",
            "|1641001663|0xb0b2f6fc707fbb7...|0xd6ba299fdd52f09...| 8408.0|        transfer|  South America|    192.0|              4|              42|         focused|established|      15.0|     low_risk|\n",
            "|1627295224|0x6ea0e02fb6ee893...|0xc28cbdb253f1217...| 3890.0|        transfer|         Europe|   172.16|              3|              79|         focused|established|      15.0|     low_risk|\n",
            "|1591301775|0xed50d9894bd4379...|0xe0b340171486b08...|47827.0|            sale|  South America|    172.0|              8|              85|      high_value|    veteran|      52.5|     low_risk|\n",
            "|1670476805|0xb861dba00f32138...|0xbdac6e49b5b5314...|70754.0|        transfer|         Europe|   172.16|              5|              54|         focused|established|     18.75|     low_risk|\n",
            "|1590044893|0xfcf9a3467d3d936...|0x6d4f7db757a1bd6...|65319.0|        purchase|  North America|   172.16|              4|              62|         focused|established|      none|     low_risk|\n",
            "|1661550384|0xd2cff98e8e70704...|0x2e0925b922fed01...|67174.0|        purchase|  South America|    192.0|              2|              38|          random|        new|      none|     low_risk|\n",
            "|1668173102|0x927f8801cf6073f...|0x9f4cf7ea4bae2fc...|24472.0|            sale|  North America|    192.0|              6|             149|      high_value|    veteran|      52.5|     low_risk|\n",
            "|1688278042|0x6840e1b08ee1b07...|0xc6ed1f1e2a785b1...|36914.0|        transfer|  South America|  192.168|              8|              99|      high_value|    veteran|     36.75|     low_risk|\n",
            "|1605110528|0xbdac6e49b5b5314...|0x8cc00387692b83d...|52463.0|            sale|  North America|    172.0|              7|             142|      high_value|    veteran|      52.5|     low_risk|\n",
            "|1589645112|0x1d29e3b6f9cfd84...|0x00e146b83342807...|42499.0|            sale|           Asia|   172.16|              8|             126|      high_value|    veteran|      52.5|     low_risk|\n",
            "|1665564346|0x0e7af9cd50f3db3...|0x11229f1b76e0b0a...| 1410.0|        purchase|  South America|     10.0|              4|              53|         focused|established|     33.75|     low_risk|\n",
            "|1579109478|0x913bb81a957aec7...|0x4ec607d0d5683a6...| 9216.0|        phishing|         Europe|     10.0|              1|              25|          random|        new|     100.0|    high_risk|\n",
            "+----------+--------------------+--------------------+-------+----------------+---------------+---------+---------------+----------------+----------------+-----------+----------+-------------+\n",
            "only showing top 20 rows\n",
            "\n"
          ]
        }
      ]
    },
    {
      "cell_type": "code",
      "source": [
        "df_fraud_credit.printSchema()"
      ],
      "metadata": {
        "colab": {
          "base_uri": "https://localhost:8080/"
        },
        "id": "IeaaCiO24I2c",
        "outputId": "4f18277a-9d9f-4600-97d9-6a708d29f144"
      },
      "execution_count": 17,
      "outputs": [
        {
          "output_type": "stream",
          "name": "stdout",
          "text": [
            "root\n",
            " |-- timestamp: integer (nullable = true)\n",
            " |-- sending_address: string (nullable = true)\n",
            " |-- receiving_address: string (nullable = true)\n",
            " |-- amount: string (nullable = true)\n",
            " |-- transaction_type: string (nullable = true)\n",
            " |-- location_region: string (nullable = true)\n",
            " |-- ip_prefix: double (nullable = true)\n",
            " |-- login_frequency: integer (nullable = true)\n",
            " |-- session_duration: integer (nullable = true)\n",
            " |-- purchase_pattern: string (nullable = true)\n",
            " |-- age_group: string (nullable = true)\n",
            " |-- risk_score: string (nullable = true)\n",
            " |-- anomaly: string (nullable = true)\n",
            "\n"
          ]
        }
      ]
    },
    {
      "cell_type": "markdown",
      "source": [
        "#### 1.1 - Verificação de duplicidade de dados"
      ],
      "metadata": {
        "id": "M37FpUCL96wz"
      }
    },
    {
      "cell_type": "code",
      "source": [
        "# Qtd total de linhas\n",
        "total_rows = df_fraud_credit.count()\n",
        "total_rows"
      ],
      "metadata": {
        "colab": {
          "base_uri": "https://localhost:8080/"
        },
        "id": "f7gW7Opz4pqT",
        "outputId": "dae60d3c-3dbe-4163-f9b4-abfb38cc6794"
      },
      "execution_count": 20,
      "outputs": [
        {
          "output_type": "execute_result",
          "data": {
            "text/plain": [
              "207359"
            ]
          },
          "metadata": {},
          "execution_count": 20
        }
      ]
    },
    {
      "cell_type": "code",
      "source": [
        "# Qtd de linhas únicas\n",
        "unique_rows = df_fraud_credit.dropDuplicates().count()\n",
        "unique_rows"
      ],
      "metadata": {
        "colab": {
          "base_uri": "https://localhost:8080/"
        },
        "id": "hu8ACQeO4q0H",
        "outputId": "6876295a-aa04-4c6a-904b-25509113171f"
      },
      "execution_count": 21,
      "outputs": [
        {
          "output_type": "execute_result",
          "data": {
            "text/plain": [
              "207359"
            ]
          },
          "metadata": {},
          "execution_count": 21
        }
      ]
    },
    {
      "cell_type": "code",
      "source": [
        "# Verificação de dupliciade\n",
        "if total_rows > unique_rows:\n",
        "    print(f\"Há {total_rows - unique_rows} linhas duplicadas.\")\n",
        "else:\n",
        "    print(\"Não há linhas duplicadas.\")\n"
      ],
      "metadata": {
        "colab": {
          "base_uri": "https://localhost:8080/"
        },
        "id": "nQAqJpul4kA1",
        "outputId": "d21c840b-1110-44ed-997a-8e4c3938aab0"
      },
      "execution_count": 22,
      "outputs": [
        {
          "output_type": "stream",
          "name": "stdout",
          "text": [
            "Não há linhas duplicadas.\n"
          ]
        }
      ]
    },
    {
      "cell_type": "markdown",
      "source": [
        "#### 1.2 - Verificação de nulos"
      ],
      "metadata": {
        "id": "mdwFRhxD-FUY"
      }
    },
    {
      "cell_type": "code",
      "source": [
        "# Contar os valores nulos em cada coluna e imprimir a quantidade\n",
        "null_counts = df_fraud_credit.select([f.sum(f.col(column).isNull().cast(\"int\")).alias(column) for column in df_fraud_credit.columns])\n",
        "null_counts.show()\n",
        "\n",
        "# Verificar se há ou não valores nulos e printar o resultado\n",
        "for column in df_fraud_credit.columns:\n",
        "    null_count = null_counts.select(column).collect()[0][0]\n",
        "    if null_count > 0:\n",
        "        print(f\"A coluna '{column}' contém {null_count} valores nulos.\")\n",
        "    else:\n",
        "        print(f\"A coluna '{column}' não contém valores nulos.\")"
      ],
      "metadata": {
        "colab": {
          "base_uri": "https://localhost:8080/"
        },
        "id": "LS0RmeKn4-kF",
        "outputId": "91d627f4-a936-4146-fb68-94d5366628b9"
      },
      "execution_count": 25,
      "outputs": [
        {
          "output_type": "stream",
          "name": "stdout",
          "text": [
            "+---------+---------------+-----------------+------+----------------+---------------+---------+---------------+----------------+----------------+---------+----------+-------+\n",
            "|timestamp|sending_address|receiving_address|amount|transaction_type|location_region|ip_prefix|login_frequency|session_duration|purchase_pattern|age_group|risk_score|anomaly|\n",
            "+---------+---------------+-----------------+------+----------------+---------------+---------+---------------+----------------+----------------+---------+----------+-------+\n",
            "|        0|              0|                0|     0|               0|              0|        0|              0|               0|               0|        0|         0|      0|\n",
            "+---------+---------------+-----------------+------+----------------+---------------+---------+---------------+----------------+----------------+---------+----------+-------+\n",
            "\n",
            "A coluna 'timestamp' não contém valores nulos.\n",
            "A coluna 'sending_address' não contém valores nulos.\n",
            "A coluna 'receiving_address' não contém valores nulos.\n",
            "A coluna 'amount' não contém valores nulos.\n",
            "A coluna 'transaction_type' não contém valores nulos.\n",
            "A coluna 'location_region' não contém valores nulos.\n",
            "A coluna 'ip_prefix' não contém valores nulos.\n",
            "A coluna 'login_frequency' não contém valores nulos.\n",
            "A coluna 'session_duration' não contém valores nulos.\n",
            "A coluna 'purchase_pattern' não contém valores nulos.\n",
            "A coluna 'age_group' não contém valores nulos.\n",
            "A coluna 'risk_score' não contém valores nulos.\n",
            "A coluna 'anomaly' não contém valores nulos.\n"
          ]
        }
      ]
    },
    {
      "cell_type": "markdown",
      "source": [
        "#### 1.3 - Verificação de possíveis anomalias\n",
        "\n",
        "##### Para isso, foi feito um distinct em cada coluna, ordenando de forma crescente, para tentar entender o comportamento dos dados inseridos."
      ],
      "metadata": {
        "id": "Ta-Orek1CHd_"
      }
    },
    {
      "cell_type": "code",
      "source": [
        "# Iterar sobre todas as colunas do DataFrame\n",
        "for column in df_fraud_credit.columns:\n",
        "    print(f\"Distintos e ordenados para a coluna: {column}\")\n",
        "\n",
        "    # Realizar o distinct e ordenar para a coluna atual\n",
        "    df_distinct = df_fraud_credit.select(column).distinct().orderBy(column)\n",
        "\n",
        "    df_distinct.show(truncate=False)"
      ],
      "metadata": {
        "colab": {
          "base_uri": "https://localhost:8080/"
        },
        "id": "R3tIRCjpCYD5",
        "outputId": "60e5db1f-2bab-4a50-926a-1b6084ffbbab"
      },
      "execution_count": 49,
      "outputs": [
        {
          "output_type": "stream",
          "name": "stdout",
          "text": [
            "Distintos e ordenados para a coluna: timestamp\n",
            "+----------+\n",
            "|timestamp |\n",
            "+----------+\n",
            "|1577837361|\n",
            "|1577838583|\n",
            "|1577839150|\n",
            "|1577839432|\n",
            "|1577839448|\n",
            "|1577840396|\n",
            "|1577840695|\n",
            "|1577841354|\n",
            "|1577841534|\n",
            "|1577841739|\n",
            "|1577842532|\n",
            "|1577844157|\n",
            "|1577844216|\n",
            "|1577844278|\n",
            "|1577844543|\n",
            "|1577845601|\n",
            "|1577845731|\n",
            "|1577846480|\n",
            "|1577846514|\n",
            "|1577846898|\n",
            "+----------+\n",
            "only showing top 20 rows\n",
            "\n",
            "Distintos e ordenados para a coluna: sending_address\n",
            "+------------------------------------------+\n",
            "|sending_address                           |\n",
            "+------------------------------------------+\n",
            "|0x00262fa3b21847775e2db42965d0192e8dfe5bdc|\n",
            "|0x002bcd751410a69b3bce463890abb2fcab81a755|\n",
            "|0x00318c7963a45ceb6b3101e1794ad42137da8f3f|\n",
            "|0x003ebce509d14e6252dc14c35beb43d2dc52f35c|\n",
            "|0x004fd71e61d0fb00f974635faec45195b8239607|\n",
            "|0x006964d8bad07317bd17d20e084b94b7d9245db6|\n",
            "|0x00e146b83342807fb6d5ada66b9559de1fcb7635|\n",
            "|0x00f47be991d8e476be53b937a627a0a938355f98|\n",
            "|0x015589d9f0bf74c5408f28c950738a210c093698|\n",
            "|0x0216eabb3496a5f88b1e399ad067fcbcc6889a48|\n",
            "|0x0217ebffb80666640da500fb4380890fbd2ae92c|\n",
            "|0x02234b52147ea57ff46e6ccc9f162720150acfa7|\n",
            "|0x0257d6b8ec75563c9604a1e7fd7e33c3be53bbec|\n",
            "|0x027d34ed81d38dfc2c8de3f5f05132aa931d25a6|\n",
            "|0x029d4cf76f7612557025056f294ad7971318852a|\n",
            "|0x02a9c1ecdc6dca8a15d3035c3422cdbd1b8c6237|\n",
            "|0x02af9102a2b6e8fc4dbfc65e7d9280f732374fb3|\n",
            "|0x02ec34da72ea2232fb449fb91663ab585d6b839a|\n",
            "|0x02ec8396ef494846a98ae386519bf6d91ed8d110|\n",
            "|0x02f1f6230a6978e2b12b2df8224324adcdeed1e0|\n",
            "+------------------------------------------+\n",
            "only showing top 20 rows\n",
            "\n",
            "Distintos e ordenados para a coluna: receiving_address\n",
            "+------------------------------------------+\n",
            "|receiving_address                         |\n",
            "+------------------------------------------+\n",
            "|0x00070ac7479dedee29d468ff8f07afa40564ae4a|\n",
            "|0x00262fa3b21847775e2db42965d0192e8dfe5bdc|\n",
            "|0x002bcd751410a69b3bce463890abb2fcab81a755|\n",
            "|0x00318c7963a45ceb6b3101e1794ad42137da8f3f|\n",
            "|0x003ebce509d14e6252dc14c35beb43d2dc52f35c|\n",
            "|0x004fd71e61d0fb00f974635faec45195b8239607|\n",
            "|0x006964d8bad07317bd17d20e084b94b7d9245db6|\n",
            "|0x00e146b83342807fb6d5ada66b9559de1fcb7635|\n",
            "|0x00f47be991d8e476be53b937a627a0a938355f98|\n",
            "|0x015589d9f0bf74c5408f28c950738a210c093698|\n",
            "|0x01cf3e1b7e9910682e24ef5d2753522d8e31006f|\n",
            "|0x0216eabb3496a5f88b1e399ad067fcbcc6889a48|\n",
            "|0x0217ebffb80666640da500fb4380890fbd2ae92c|\n",
            "|0x02234b52147ea57ff46e6ccc9f162720150acfa7|\n",
            "|0x0257d6b8ec75563c9604a1e7fd7e33c3be53bbec|\n",
            "|0x027d34ed81d38dfc2c8de3f5f05132aa931d25a6|\n",
            "|0x029d4cf76f7612557025056f294ad7971318852a|\n",
            "|0x02a9c1ecdc6dca8a15d3035c3422cdbd1b8c6237|\n",
            "|0x02af9102a2b6e8fc4dbfc65e7d9280f732374fb3|\n",
            "|0x02ec8396ef494846a98ae386519bf6d91ed8d110|\n",
            "+------------------------------------------+\n",
            "only showing top 20 rows\n",
            "\n",
            "Distintos e ordenados para a coluna: amount\n",
            "+-------+\n",
            "|amount |\n",
            "+-------+\n",
            "|1.0    |\n",
            "|10.0   |\n",
            "|100.0  |\n",
            "|1000.0 |\n",
            "|10000.0|\n",
            "|10001.0|\n",
            "|10002.0|\n",
            "|10003.0|\n",
            "|10004.0|\n",
            "|10005.0|\n",
            "|10006.0|\n",
            "|10007.0|\n",
            "|10008.0|\n",
            "|10009.0|\n",
            "|1001.0 |\n",
            "|10010.0|\n",
            "|10011.0|\n",
            "|10012.0|\n",
            "|10013.0|\n",
            "|10014.0|\n",
            "+-------+\n",
            "only showing top 20 rows\n",
            "\n",
            "Distintos e ordenados para a coluna: transaction_type\n",
            "+----------------+\n",
            "|transaction_type|\n",
            "+----------------+\n",
            "|phishing        |\n",
            "|purchase        |\n",
            "|sale            |\n",
            "|scam            |\n",
            "|transfer        |\n",
            "+----------------+\n",
            "\n",
            "Distintos e ordenados para a coluna: location_region\n",
            "+---------------+\n",
            "|location_region|\n",
            "+---------------+\n",
            "|0              |\n",
            "|Africa         |\n",
            "|Asia           |\n",
            "|Europe         |\n",
            "|North America  |\n",
            "|South America  |\n",
            "+---------------+\n",
            "\n",
            "Distintos e ordenados para a coluna: ip_prefix\n",
            "+---------+\n",
            "|ip_prefix|\n",
            "+---------+\n",
            "|10.0     |\n",
            "|172.0    |\n",
            "|172.16   |\n",
            "|192.0    |\n",
            "|192.168  |\n",
            "+---------+\n",
            "\n",
            "Distintos e ordenados para a coluna: login_frequency\n",
            "+---------------+\n",
            "|login_frequency|\n",
            "+---------------+\n",
            "|1              |\n",
            "|2              |\n",
            "|3              |\n",
            "|4              |\n",
            "|5              |\n",
            "|6              |\n",
            "|7              |\n",
            "|8              |\n",
            "+---------------+\n",
            "\n",
            "Distintos e ordenados para a coluna: session_duration\n",
            "+----------------+\n",
            "|session_duration|\n",
            "+----------------+\n",
            "|20              |\n",
            "|21              |\n",
            "|22              |\n",
            "|23              |\n",
            "|24              |\n",
            "|25              |\n",
            "|26              |\n",
            "|27              |\n",
            "|28              |\n",
            "|29              |\n",
            "|30              |\n",
            "|31              |\n",
            "|32              |\n",
            "|33              |\n",
            "|34              |\n",
            "|35              |\n",
            "|36              |\n",
            "|37              |\n",
            "|38              |\n",
            "|39              |\n",
            "+----------------+\n",
            "only showing top 20 rows\n",
            "\n",
            "Distintos e ordenados para a coluna: purchase_pattern\n",
            "+----------------+\n",
            "|purchase_pattern|\n",
            "+----------------+\n",
            "|focused         |\n",
            "|high_value      |\n",
            "|random          |\n",
            "+----------------+\n",
            "\n",
            "Distintos e ordenados para a coluna: age_group\n",
            "+-----------+\n",
            "|age_group  |\n",
            "+-----------+\n",
            "|established|\n",
            "|new        |\n",
            "|veteran    |\n",
            "+-----------+\n",
            "\n",
            "Distintos e ordenados para a coluna: risk_score\n",
            "+------------------+\n",
            "|risk_score        |\n",
            "+------------------+\n",
            "|100.0             |\n",
            "|15.0              |\n",
            "|15.75             |\n",
            "|18.75             |\n",
            "|20.25             |\n",
            "|21.2625           |\n",
            "|25.0              |\n",
            "|25.3125           |\n",
            "|26.25             |\n",
            "|31.25             |\n",
            "|33.75             |\n",
            "|35.0              |\n",
            "|35.4375           |\n",
            "|36.75             |\n",
            "|40.0              |\n",
            "|42.0              |\n",
            "|42.1875           |\n",
            "|43.75             |\n",
            "|47.25             |\n",
            "|49.612500000000004|\n",
            "+------------------+\n",
            "only showing top 20 rows\n",
            "\n",
            "Distintos e ordenados para a coluna: anomaly\n",
            "+-------------+\n",
            "|anomaly      |\n",
            "+-------------+\n",
            "|high_risk    |\n",
            "|low_risk     |\n",
            "|moderate_risk|\n",
            "+-------------+\n",
            "\n"
          ]
        }
      ]
    },
    {
      "cell_type": "markdown",
      "source": [
        "#### 1.3 - Tratando anomalias\n",
        "* Verifiquei que a coluna \"location_region\" possui um valor fora dos padrões e para melhorar a clareza na visualização decidi substituir o valor \"0\" por \"Não Identificado\".\n",
        "\n",
        "* Além disso, foi verificado em um dos primeiros passos que a coluna \"amount\" está com o data type = \"string\", tendo em vista que é uma unidade de quantia será transformada para \"int\"."
      ],
      "metadata": {
        "id": "0CrQGBMjC8rC"
      }
    },
    {
      "cell_type": "code",
      "source": [
        "# Substituir \"0\" por \"Não identificado\" na coluna location_region\n",
        "df_fraud_credit = df_fraud_credit.withColumn(\"location_region\", f.when(df_fraud_credit[\"location_region\"] == \"0\", \"Não identificado\").otherwise(df_fraud_credit[\"location_region\"]))\n",
        "\n",
        "df_fraud_credit = df_fraud_credit.withColumn(\"amount\", f.col(\"amount\").cast(\"int\"))\n"
      ],
      "metadata": {
        "id": "ODFtZPZtDLwG"
      },
      "execution_count": 56,
      "outputs": []
    },
    {
      "cell_type": "markdown",
      "source": [
        "## **2 - Criação das tabelas-resultado**"
      ],
      "metadata": {
        "id": "AHpWKT8g-_ye"
      }
    },
    {
      "cell_type": "markdown",
      "source": [
        "#### 2.1 - Listar em ordem decrescent \"location_region\" por média de \"risk_score\""
      ],
      "metadata": {
        "id": "TlvH6wtn_NJR"
      }
    },
    {
      "cell_type": "code",
      "source": [
        "# Calcula a média de 'risk score' por 'location_region' e ordena em ordem decrescente\n",
        "df_location = df_fraud_credit.groupBy(\"location_region\") \\\n",
        "                .agg(f.avg(\"risk_score\").alias(\"average_risk_score\")) \\\n",
        "                .orderBy(f.col(\"average_risk_score\").desc())\n",
        "\n",
        "# Mostrar o resultado\n",
        "df_location.show()"
      ],
      "metadata": {
        "colab": {
          "base_uri": "https://localhost:8080/"
        },
        "id": "iVa4eMId_K15",
        "outputId": "76fa9842-3ed8-4fe3-f68a-d9c3313e5bbd"
      },
      "execution_count": 57,
      "outputs": [
        {
          "output_type": "stream",
          "name": "stdout",
          "text": [
            "+----------------+------------------+\n",
            "| location_region|average_risk_score|\n",
            "+----------------+------------------+\n",
            "|   South America| 45.17340290646643|\n",
            "|   North America| 45.15432162201378|\n",
            "|            Asia|45.022036443610475|\n",
            "|          Africa| 44.87021649763689|\n",
            "|          Europe| 44.61330514857742|\n",
            "|Não identificado| 44.58949718045112|\n",
            "+----------------+------------------+\n",
            "\n"
          ]
        }
      ]
    },
    {
      "cell_type": "markdown",
      "source": [
        "#### 2.1 - Listar os 3 \"receiving address\" com maior \"amount\" dentre a transação com \"timestamp\" mais recente e \"transaction_type\" = \"sale\" de cada \"receiving_address\""
      ],
      "metadata": {
        "id": "hCXnS775FruN"
      }
    },
    {
      "cell_type": "code",
      "source": [
        "# Filtrar transações do tipo 'sale'\n",
        "df_sales = df_fraud_credit.filter(df_fraud_credit.transaction_type == \"sale\")\n",
        "\n",
        "# Criar uma janela para identificar a transação mais recente por 'receiving_address'\n",
        "window_spec = Window.partitionBy(\"receiving_address\").orderBy(f.col(\"timestamp\").desc())\n",
        "\n",
        "# Adicionar uma coluna com a ordem das transações\n",
        "df_sales_recent = df_sales.withColumn(\"row_number\", f.row_number().over(window_spec))\n",
        "\n",
        "# Filtrar apenas a transação mais recente por 'receiving_address'\n",
        "df_sales_recent = df_sales_recent.filter(f.col(\"row_number\") == 1)\n",
        "\n",
        "# Selecionar os 3 'receiving_address' com maior 'amount'\n",
        "df_top3 = df_sales_recent.orderBy(f.col(\"amount\").desc()).limit(3)\n",
        "\n",
        "df_top3.show()\n"
      ],
      "metadata": {
        "colab": {
          "base_uri": "https://localhost:8080/"
        },
        "id": "sFJbob_SD1dR",
        "outputId": "23ebbd1e-7aaa-493b-83d0-f1f8a33e7fcb"
      },
      "execution_count": 58,
      "outputs": [
        {
          "output_type": "stream",
          "name": "stdout",
          "text": [
            "+----------+--------------------+--------------------+------+----------------+---------------+---------+---------------+----------------+----------------+---------+----------+-------------+----------+\n",
            "| timestamp|     sending_address|   receiving_address|amount|transaction_type|location_region|ip_prefix|login_frequency|session_duration|purchase_pattern|age_group|risk_score|      anomaly|row_number|\n",
            "+----------+--------------------+--------------------+------+----------------+---------------+---------+---------------+----------------+----------------+---------+----------+-------------+----------+\n",
            "|1702429736|0xb10f08393f28f97...|0xfe2650f030f2c96...| 76757|            sale|         Africa|     10.0|              2|              20|          random|      new|      50.0|     low_risk|         1|\n",
            "|1698313051|0xc425ff34632d4bc...|0xc650a36cc875e16...| 76704|            sale|         Europe|    192.0|              2|              26|          random|      new|      50.0|     low_risk|         1|\n",
            "|1701117414|0xf6c2e5951ed1cb7...|0x93bb008f85cf341...| 76580|            sale|  South America|   172.16|              8|             119|      high_value|  veteran|      62.5|moderate_risk|         1|\n",
            "+----------+--------------------+--------------------+------+----------------+---------------+---------+---------------+----------------+----------------+---------+----------+-------------+----------+\n",
            "\n"
          ]
        }
      ]
    },
    {
      "cell_type": "markdown",
      "source": [
        "## **3 - Data Quality**\n",
        "\n",
        "* Contagem de Nulos\n",
        "* Detecção de Nulos\n",
        "* Detecção de Valores Inconsistentes ou Incorretos\n",
        "* Cálculo do Percentual de Conformidade"
      ],
      "metadata": {
        "id": "4SGxax9BJcRW"
      }
    },
    {
      "cell_type": "code",
      "source": [
        "\n",
        "# Coletar o total de erros (valores nulos) em uma lista\n",
        "total_erros_list = null_counts.select([f.sum(f.col(c)).alias(c) for c in null_counts.columns]).collect()\n",
        "\n",
        "# Printar o resultado coletado para verificar os valores\n",
        "print(\"Resultado coletado do DataFrame:\")\n",
        "for row in total_erros_list:\n",
        "    print(row.asDict())  # Mostrar todos os valores da Row como um dicionário\n",
        "\n",
        "# Extrair o primeiro (e único) Row e converter os valores para inteiros\n",
        "total_erros_dict = total_erros_list[0].asDict()\n",
        "\n",
        "# Corrigir a soma dos valores nulos\n",
        "total_erros = 0\n",
        "for value in total_erros_dict.values():\n",
        "    try:\n",
        "        total_erros += int(value)\n",
        "    except ValueError:\n",
        "        print(f\"Não foi possível converter o valor para inteiro: {value}\")\n",
        "\n",
        "print(f\"Total de erros: {total_erros}\")\n",
        "\n",
        "# Verificar a quantidade total de registros\n",
        "total_registros = df_fraud_credit.count()\n",
        "print(f\"Quantidade total de registros: {total_registros}\")\n",
        "\n",
        "# Calcular o percentual de conformidade\n",
        "percentual_conformidade = ((total_registros - total_erros) / total_registros) * 100\n",
        "print(f\"Percentual de conformidade: {percentual_conformidade:.2f}%\")\n",
        "\n",
        "# Verificar valores de 'amount' que são negativos ou zero\n",
        "valores_incorretos = df_fraud_credit.filter(f.col(\"amount\") <= 0).count()\n",
        "print(f\"Quantidade de registros com valores incorretos em 'amount': {valores_incorretos}\")\n"
      ],
      "metadata": {
        "colab": {
          "base_uri": "https://localhost:8080/"
        },
        "id": "s0r3YV14M1gz",
        "outputId": "90cb54e4-c764-4151-c39d-4418cdd65230"
      },
      "execution_count": 72,
      "outputs": [
        {
          "output_type": "stream",
          "name": "stdout",
          "text": [
            "Resultado coletado do DataFrame:\n",
            "{'timestamp': 0, 'sending_address': 0, 'receiving_address': 0, 'amount': 1095, 'transaction_type': 0, 'location_region': 0, 'ip_prefix': 0, 'login_frequency': 0, 'session_duration': 0, 'purchase_pattern': 0, 'age_group': 0, 'risk_score': 0, 'anomaly': 0}\n",
            "Total de erros: 1095\n",
            "Quantidade total de registros: 207359\n",
            "Percentual de conformidade: 99.47%\n",
            "Quantidade de registros com valores incorretos em 'amount': 0\n"
          ]
        }
      ]
    },
    {
      "cell_type": "markdown",
      "source": [
        "## **4 - Data Quality (Representação Gráfica)**"
      ],
      "metadata": {
        "id": "gXdK3zxLQkVI"
      }
    },
    {
      "cell_type": "code",
      "source": [
        "!pip install matplotlib seaborn"
      ],
      "metadata": {
        "colab": {
          "base_uri": "https://localhost:8080/"
        },
        "id": "1XG9JxOSPH1I",
        "outputId": "c0dbfc49-9146-45b1-c39d-cf1759b76f9c"
      },
      "execution_count": 73,
      "outputs": [
        {
          "output_type": "stream",
          "name": "stdout",
          "text": [
            "Requirement already satisfied: matplotlib in /usr/local/lib/python3.10/dist-packages (3.7.1)\n",
            "Requirement already satisfied: seaborn in /usr/local/lib/python3.10/dist-packages (0.13.1)\n",
            "Requirement already satisfied: contourpy>=1.0.1 in /usr/local/lib/python3.10/dist-packages (from matplotlib) (1.2.1)\n",
            "Requirement already satisfied: cycler>=0.10 in /usr/local/lib/python3.10/dist-packages (from matplotlib) (0.12.1)\n",
            "Requirement already satisfied: fonttools>=4.22.0 in /usr/local/lib/python3.10/dist-packages (from matplotlib) (4.53.1)\n",
            "Requirement already satisfied: kiwisolver>=1.0.1 in /usr/local/lib/python3.10/dist-packages (from matplotlib) (1.4.5)\n",
            "Requirement already satisfied: numpy>=1.20 in /usr/local/lib/python3.10/dist-packages (from matplotlib) (1.26.4)\n",
            "Requirement already satisfied: packaging>=20.0 in /usr/local/lib/python3.10/dist-packages (from matplotlib) (24.1)\n",
            "Requirement already satisfied: pillow>=6.2.0 in /usr/local/lib/python3.10/dist-packages (from matplotlib) (9.4.0)\n",
            "Requirement already satisfied: pyparsing>=2.3.1 in /usr/local/lib/python3.10/dist-packages (from matplotlib) (3.1.2)\n",
            "Requirement already satisfied: python-dateutil>=2.7 in /usr/local/lib/python3.10/dist-packages (from matplotlib) (2.8.2)\n",
            "Requirement already satisfied: pandas>=1.2 in /usr/local/lib/python3.10/dist-packages (from seaborn) (2.1.4)\n",
            "Requirement already satisfied: pytz>=2020.1 in /usr/local/lib/python3.10/dist-packages (from pandas>=1.2->seaborn) (2024.1)\n",
            "Requirement already satisfied: tzdata>=2022.1 in /usr/local/lib/python3.10/dist-packages (from pandas>=1.2->seaborn) (2024.1)\n",
            "Requirement already satisfied: six>=1.5 in /usr/local/lib/python3.10/dist-packages (from python-dateutil>=2.7->matplotlib) (1.16.0)\n"
          ]
        }
      ]
    },
    {
      "cell_type": "code",
      "source": [
        "import matplotlib.pyplot as plt\n",
        "import seaborn as sns\n",
        "import pandas as pd"
      ],
      "metadata": {
        "id": "jqXmy1HpQeA0"
      },
      "execution_count": null,
      "outputs": []
    },
    {
      "cell_type": "markdown",
      "source": [
        "#### 4.1 - Distribuição de Valores Nulos por Coluna"
      ],
      "metadata": {
        "id": "mOJwZUQzQs-T"
      }
    },
    {
      "cell_type": "code",
      "source": [
        "# Coletar o total de erros (valores nulos) em uma lista\n",
        "total_erros_list = null_counts.select([f.sum(f.col(c)).alias(c) for c in null_counts.columns]).collect()\n",
        "total_erros_dict = total_erros_list[0].asDict()\n",
        "\n",
        "# Converter os valores para inteiros e preparar para plotagem\n",
        "total_erros = {col: int(value) for col, value in total_erros_dict.items()}\n",
        "\n",
        "# Criar gráfico da distribuição de valores nulos por coluna\n",
        "plt.figure(figsize=(12, 6))\n",
        "sns.barplot(x=list(total_erros.keys()), y=list(total_erros.values()))\n",
        "plt.title('Distribuição de Valores Nulos por Coluna')\n",
        "plt.xlabel('Colunas')\n",
        "plt.ylabel('Número de Valores Nulos')\n",
        "plt.xticks(rotation=45)\n",
        "plt.show()"
      ],
      "metadata": {
        "colab": {
          "base_uri": "https://localhost:8080/",
          "height": 649
        },
        "id": "EpMtT0rjRAIS",
        "outputId": "a075f9b9-f826-44b5-c330-2fa26c358313"
      },
      "execution_count": 77,
      "outputs": [
        {
          "output_type": "display_data",
          "data": {
            "text/plain": [
              "<Figure size 1200x600 with 1 Axes>"
            ],
            "image/png": "[encoded data removed]"
          },
          "metadata": {}
        }
      ]
    },
    {
      "cell_type": "markdown",
      "source": [
        "#### 4.2 - Percentual de Conformidade"
      ],
      "metadata": {
        "id": "GY7_D2E6RBF4"
      }
    },
    {
      "cell_type": "code",
      "source": [
        "# Verificar valores de 'amount' que são negativos ou zero\n",
        "valores_incorretos = df_fraud_credit.filter(f.col(\"amount\") <= 0).count()\n",
        "\n",
        "# Calcular o percentual de conformidade\n",
        "percentual_conformidade = ((total_registros - total_erros.get('amount', 0)) / total_registros) * 100\n",
        "percentual_erros = 100 - percentual_conformidade\n",
        "\n",
        "# Dados para o gráfico de pizza\n",
        "labels = ['Conformidade', 'Erros']\n",
        "sizes = [percentual_conformidade, percentual_erros]\n",
        "colors = ['#4CAF50', '#F44336']  # Verde para conformidade, vermelho para erros\n",
        "\n",
        "# Criar o gráfico de pizza\n",
        "plt.figure(figsize=(8, 8))\n",
        "plt.pie(sizes, labels=labels, colors=colors, autopct='%1.1f%%', startangle=140)\n",
        "plt.title('Percentual de Conformidade dos Dados')\n",
        "plt.show()\n"
      ],
      "metadata": {
        "colab": {
          "base_uri": "https://localhost:8080/",
          "height": 675
        },
        "id": "UVmvzsC3ROyD",
        "outputId": "6ea25591-7095-447a-e48b-a9b35393c855"
      },
      "execution_count": 79,
      "outputs": [
        {
          "output_type": "display_data",
          "data": {
            "text/plain": [
              "<Figure size 800x800 with 1 Axes>"
            ],
            "image/png": "[encoded data removed]"
          },
          "metadata": {}
        }
      ]
    },
    {
      "cell_type": "markdown",
      "source": [
        "#### 4.3 - Distribuição dos Valores em \"amount\""
      ],
      "metadata": {
        "id": "llAwOsrfRXfh"
      }
    },
    {
      "cell_type": "code",
      "source": [
        "# Criar gráfico da distribuição dos valores em 'amount'\n",
        "amount_values = df_fraud_credit.filter(f.col(\"amount\").isNotNull()).select(\"amount\").toPandas()\n",
        "\n",
        "# Converter 'amount' para numérico, forçando erros a NaN\n",
        "amount_values[\"amount\"] = pd.to_numeric(amount_values[\"amount\"], errors='coerce')\n",
        "\n",
        "plt.figure(figsize=(12, 6))\n",
        "sns.histplot(amount_values[\"amount\"].dropna(), bins=50, kde=True)\n",
        "plt.title('Distribuição dos Valores em \"amount\"')\n",
        "plt.xlabel('Amount')\n",
        "plt.ylabel('Frequência')\n",
        "plt.show()"
      ],
      "metadata": {
        "colab": {
          "base_uri": "https://localhost:8080/",
          "height": 564
        },
        "id": "h61_2mixRcn4",
        "outputId": "696ebefd-2fc0-452d-da22-5bac57139882"
      },
      "execution_count": 80,
      "outputs": [
        {
          "output_type": "display_data",
          "data": {
            "text/plain": [
              "<Figure size 1200x600 with 1 Axes>"
            ],
            "image/png": "[encoded data removed]"
          },
          "metadata": {}
        }
      ]
    },
    {
      "cell_type": "markdown",
      "source": [
        "## **5 - Conteinerização**"
      ],
      "metadata": {
        "id": "U4qnCpE2SmCl"
      }
    },
    {
      "cell_type": "markdown",
      "source": [
        "Para garantir a portabilidade e a fácil execução da solução em diversos ambientes, é recomendável contêinerizar o processamento de dados. O arquivo CSV, que serve como a entrada para a solução, pode ser armazenado em um data lake, seja nos Azure Blob Storage, Google Cloud Storage (GCS) ou Amazon S3 (na AWS). A arquitetura de data lake oferece uma maneira segura e escalável de armazenar dados brutos e processados."
      ],
      "metadata": {
        "id": "UZngkMPiSxIE"
      }
    },
    {
      "cell_type": "markdown",
      "source": [
        "## **6 - Orquestração**"
      ],
      "metadata": {
        "id": "mCve1EB_U_rn"
      }
    },
    {
      "cell_type": "markdown",
      "source": [
        "* **1 - Monitoramento de Eventos**:\n",
        "\n",
        " Configurar uma pasta no data lake (Azure Blob Storage, Google Cloud Storage ou Amazon S3) para armazenar o arquivo CSV e quaisquer atualizações futuras.\n",
        "Utilizar um serviço de monitoramento de eventos, como Azure Data Factory, Google Cloud Functions ou AWS Lambda, para detectar quando um novo arquivo é carregado na pasta predefinida.\n",
        "\n",
        "\n",
        "\n",
        "* **2 - Acionamento Automático**:\n",
        "\n",
        " Quando um novo arquivo é detectado, o serviço de monitoramento aciona automaticamente o processo de carga.\n",
        "Isso pode ser realizado chamando este notebook ou um outro pipeline específico para processar o arquivo CSV, realizar a limpeza dos dados e atualizar as tabelas conforme necessário.\n",
        "\n",
        "* **3 - Logs e Alertas**:\n",
        "\n",
        "  Configurar logs e alertas para acompanhar o status do processo de carga e notificar a equipe de operações sobre possíveis falhas ou problemas com os dados.\n",
        "\n",
        "\n",
        "* **4 - Benefícios da Abordagem**:\n",
        "\n",
        " * **Eficiência**: Reduz a necessidade de intervenção manual e garante que os dados sejam processados automaticamente conforme chegam.\n",
        " * **Escalabilidade**: Facilita a adição de novos arquivos e atualizações sem necessidade de reconfiguração manual.\n",
        " * **Confiabilidade**: A automação e monitoramento garantem que o processo de carga seja executado de forma consistente e confiável.\n",
        "Essa abordagem garante que a pipeline de dados esteja sempre atualizada e pronta para processar novos dados de forma eficiente e automatizada."
      ],
      "metadata": {
        "id": "Gt7dXTbNVCXR"
      }
    }
  ]
}